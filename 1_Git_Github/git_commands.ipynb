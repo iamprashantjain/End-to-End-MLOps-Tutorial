{
 "cells": [
  {
   "attachments": {
    "image.png": {
     "image/png": "[encoded data removed]"
    }
   },
   "cell_type": "markdown",
   "metadata": {},
   "source": [
    "**Git & Github**\n",
    "\n",
    "![image.png](attachment:image.png)\n",
    "\n",
    "- `Git` is a source code management tool.\n",
    "- `Github` is a centralized cloud repo where we can store/manage our code versions"
   ]
  },
  {
   "cell_type": "markdown",
   "metadata": {},
   "source": [
    "***Git Commands***\n",
    "\n",
    "`basic commands`\n",
    "- git init\n",
    "- git status\n",
    "- git add <filename> | git add .\n",
    "- git commit -m \"<commit message>\"\n",
    "- create a `.gitignore` file, mention all the file or folder names which we dont want git to track like venv, config files, password files etc\n",
    "\n",
    "`check logs/history of commits`\n",
    "- git log\n",
    "- git log --oneline\n",
    "- git log --stat\n",
    "- git log -p\n",
    "- git show <6 digit sha id>\n",
    "- git diff\n",
    "\n",
    "`branching/merging`\n",
    "- git branch <branch name>\n",
    "- git branch <branch name><sha id> : to create branch from previous commits\n",
    "- git checkout <branch>\n",
    "- git log --oneline --all\n",
    "- git branch -d/-D <branch name>\n",
    "- git merge <branch name> : run this command from main branch only\n",
    "\n",
    "`remote repo`\n",
    "- git remote add origin <git url> : to add folder to a github repo\n",
    "- git push -u origin main\n",
    "- git clone <git url>\n",
    "- git pull origin master/main : when fellow developer also writing codes, so we can fetch the latest changes in the code\n",
    "\n",
    "\n",
    "`software versions`\n",
    "- V3.0.0\n",
    "- last 0 denites minor changes in the software like V3.0.1, V3.0.2, V3.0.3 etc\n",
    "- second last 0 denotes functionaility addition/changes\n",
    "- 3 denotes complete change in software like python 2 to python 3 is a complete change. they both are not compatible with each other\n",
    "\n",
    "- `how to version the code in git`\n",
    "- git tag -a v1.0.0 <sha id>\n",
    "- this will open a vim editor\n",
    "    - press Fn + insert: to write a message\n",
    "    - esc + :wq to save and quit\n",
    "- check the version in git log --oneline    \n",
    "- git tag -d v1.0.0: delete the tag"
   ]
  },
  {
   "cell_type": "markdown",
   "metadata": {},
   "source": []
  }
 ],
 "metadata": {
  "language_info": {
   "name": "python"
  }
 },
 "nbformat": 4,
 "nbformat_minor": 2
}
