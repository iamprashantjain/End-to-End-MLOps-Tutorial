{
 "cells": [
  {
   "cell_type": "markdown",
   "metadata": {},
   "source": [
    "### Problems Faced Before Docker\n",
    "\n",
    "- **Environment Inconsistencies**: Developers would build applications and, before publishing them to production, they had to go through a testing phase. Problems arose when the app worked on the developer's system but didn't function properly on the testing team's machines due to different system configurations or dependency versions.\n",
    "\n",
    "- **Virtual Machines (VMs) as a Solution**: To address this issue, Virtual Machines (VMs) were introduced. VMs allowed the creation of isolated environments, each with its own operating system, RAM, storage, and other resources, while still running on the host machine. Developers could save their work in the VM and share it with the testing or deployment teams, ensuring consistency across different systems.\n",
    "\n",
    "- **Limitations of VMs**: Although VMs helped to ensure consistency, they had significant drawbacks. VMs were resource-heavy because each VM ran its own full operating system on top of the host OS. This resulted in high storage consumption, slower performance, and inefficient use of system resources.\n",
    "\n",
    "- **Docker's Advantage**: Docker, unlike traditional VMs, does not require a separate operating system. Instead, it uses the host OS's kernel and shares resources like RAM and CPU with the host. This makes Docker containers lightweight, faster, and more resource-efficient. Containers can be easily packaged with all necessary dependencies and shared with other teams, ensuring the app works the same way in every environment.\n",
    "\n",
    "- `How to package the app or create an image of the app`? : using dockerfile\n",
    "- `dockerfile` contains instructions on how to build the image of the app like which environment, dependencies etc\n",
    "    \n",
    "    1. FROM: base image\n",
    "    2. COPY or ADD: files from local to image\n",
    "    3. RUN: pip install requirements.txt\n",
    "    4. CMD: py app.py\n",
    "    5. EXPOSE: port"
   ]
  },
  {
   "cell_type": "markdown",
   "metadata": {},
   "source": []
  }
 ],
 "metadata": {
  "language_info": {
   "name": "python"
  }
 },
 "nbformat": 4,
 "nbformat_minor": 2
}
