{
 "cells": [
  {
   "cell_type": "markdown",
   "metadata": {},
   "source": [
    "### Problem CI Solves\n",
    "\n",
    "- Imagine we have an ML application stored in a cloud repository (github).\n",
    "- This ML app consists of multiple components like data ingestion, preprocessing, model training, evaluation, training pipelines, and prediction pipelines.\n",
    "- Over time, we may modify the code to add or remove functionalities. However, these changes could introduce errors that break the execution of the ML app.\n",
    "- If the ML app is part of a larger project, such errors may cause the entire system to fail.\n",
    "- To prevent this, we need a testing service to ensure that all components work as expected after any code changes, before pushing the updates to production. This helps avoid disrupting the entire project.\n",
    "- This flow is called `Continous Integration (CI)`\n",
    "- To automate CI work flow, we can use `Github Actions` to perform automated CI.\n",
    "- There are other services like Jenkins, Travis CI etc"
   ]
  },
  {
   "cell_type": "markdown",
   "metadata": {},
   "source": []
  }
 ],
 "metadata": {
  "language_info": {
   "name": "python"
  }
 },
 "nbformat": 4,
 "nbformat_minor": 2
}
